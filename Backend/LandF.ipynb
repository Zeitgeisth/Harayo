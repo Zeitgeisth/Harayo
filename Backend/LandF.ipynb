{
 "cells": [
  {
   "cell_type": "code",
   "execution_count": 1,
   "metadata": {},
   "outputs": [
    {
     "name": "stderr",
     "output_type": "stream",
     "text": [
      "c:\\users\\pc\\appdata\\local\\programs\\python\\python36\\lib\\site-packages\\gensim\\utils.py:1212: UserWarning: detected Windows; aliasing chunkize to chunkize_serial\n",
      "  warnings.warn(\"detected Windows; aliasing chunkize to chunkize_serial\")\n"
     ]
    }
   ],
   "source": [
    "from gensim.test.utils import common_texts\n",
    "from gensim.models.word2vec import Word2Vec\n",
    "import gensim\n",
    "from nltk.tokenize import word_tokenize\n",
    "import random"
   ]
  },
  {
   "cell_type": "code",
   "execution_count": 2,
   "metadata": {},
   "outputs": [
    {
     "data": {
      "text/plain": [
       "[['Samsung'],\n",
       " ['Huawei'],\n",
       " ['Xiaomi'],\n",
       " ['Nokia'],\n",
       " ['Poccophone'],\n",
       " ['Citizenship'],\n",
       " ['Nagarikta'],\n",
       " ['ID']]"
      ]
     },
     "execution_count": 2,
     "metadata": {},
     "output_type": "execute_result"
    }
   ],
   "source": [
    "with open('lf.txt', encoding='utf-8') as dic:\n",
    "    texts = dic.read()\n",
    "tokenized_texts = word_tokenize(texts)\n",
    "tokenized_texts = [[word] for word in tokenized_texts]\n",
    "tokenized_texts"
   ]
  },
  {
   "cell_type": "code",
   "execution_count": 3,
   "metadata": {},
   "outputs": [],
   "source": [
    "model = gensim.models.FastText(size=100, window=5, min_count=1)\n",
    "model.build_vocab(tokenized_texts)\n",
    "model.train(tokenized_texts, total_examples=len(tokenized_texts), epochs=10)"
   ]
  },
  {
   "cell_type": "code",
   "execution_count": 4,
   "metadata": {},
   "outputs": [
    {
     "name": "stderr",
     "output_type": "stream",
     "text": [
      "c:\\users\\pc\\appdata\\local\\programs\\python\\python36\\lib\\site-packages\\ipykernel_launcher.py:1: DeprecationWarning: Call to deprecated `most_similar` (Method will be removed in 4.0.0, use self.wv.most_similar() instead).\n",
      "  \"\"\"Entry point for launching an IPython kernel.\n",
      "c:\\users\\pc\\appdata\\local\\programs\\python\\python36\\lib\\site-packages\\gensim\\matutils.py:737: FutureWarning: Conversion of the second argument of issubdtype from `int` to `np.signedinteger` is deprecated. In future, it will be treated as `np.int32 == np.dtype(int).type`.\n",
      "  if np.issubdtype(vec.dtype, np.int):\n"
     ]
    },
    {
     "data": {
      "text/plain": [
       "[('Samsung', 0.8588933348655701),\n",
       " ('ID', 0.13900156319141388),\n",
       " ('Citizenship', 0.06245407089591026),\n",
       " ('Huawei', 0.043554872274398804),\n",
       " ('Poccophone', -0.03268575668334961)]"
      ]
     },
     "execution_count": 4,
     "metadata": {},
     "output_type": "execute_result"
    }
   ],
   "source": [
    "model.most_similar(\"Samsung galaxy s1\", topn = 5)"
   ]
  },
  {
   "cell_type": "code",
   "execution_count": 5,
   "metadata": {},
   "outputs": [],
   "source": [
    "model.save(\"lf.model\")"
   ]
  },
  {
   "cell_type": "code",
   "execution_count": 6,
   "metadata": {},
   "outputs": [],
   "source": [
    "m = gensim.models.FastText.load(\"lf.model\")"
   ]
  },
  {
   "cell_type": "code",
   "execution_count": 7,
   "metadata": {},
   "outputs": [
    {
     "name": "stderr",
     "output_type": "stream",
     "text": [
      "c:\\users\\pc\\appdata\\local\\programs\\python\\python36\\lib\\site-packages\\ipykernel_launcher.py:1: DeprecationWarning: Call to deprecated `most_similar` (Method will be removed in 4.0.0, use self.wv.most_similar() instead).\n",
      "  \"\"\"Entry point for launching an IPython kernel.\n"
     ]
    },
    {
     "data": {
      "text/plain": [
       "[('Citizenship', 0.17308561503887177),\n",
       " ('Nokia', 0.1613466739654541),\n",
       " ('Huawei', 0.11923748254776001),\n",
       " ('ID', 4.545971751213074e-05),\n",
       " ('Poccophone', -0.046567611396312714),\n",
       " ('Xiaomi', -0.09962523728609085),\n",
       " ('Samsung', -0.23104938864707947)]"
      ]
     },
     "execution_count": 7,
     "metadata": {},
     "output_type": "execute_result"
    }
   ],
   "source": [
    "m.most_similar(\"Nagarikta\")"
   ]
  },
  {
   "cell_type": "code",
   "execution_count": 8,
   "metadata": {},
   "outputs": [
    {
     "data": {
      "text/plain": [
       "[['Samsung J7'], ['Samsung Galaxy S1'], ['MI']]"
      ]
     },
     "execution_count": 8,
     "metadata": {},
     "output_type": "execute_result"
    }
   ],
   "source": [
    "new_texts = [['Samsung J7'], ['Samsung Galaxy S1'], ['MI']]\n",
    "new_texts"
   ]
  },
  {
   "cell_type": "code",
   "execution_count": 9,
   "metadata": {},
   "outputs": [
    {
     "data": {
      "text/plain": [
       "{'Samsung': <gensim.models.keyedvectors.Vocab at 0x1e8800140f0>,\n",
       " 'Huawei': <gensim.models.keyedvectors.Vocab at 0x1e8800141d0>,\n",
       " 'Xiaomi': <gensim.models.keyedvectors.Vocab at 0x1e880014240>,\n",
       " 'Nokia': <gensim.models.keyedvectors.Vocab at 0x1e8800142b0>,\n",
       " 'Poccophone': <gensim.models.keyedvectors.Vocab at 0x1e8800142e8>,\n",
       " 'Citizenship': <gensim.models.keyedvectors.Vocab at 0x1e880014320>,\n",
       " 'Nagarikta': <gensim.models.keyedvectors.Vocab at 0x1e880014358>,\n",
       " 'ID': <gensim.models.keyedvectors.Vocab at 0x1e8800143c8>,\n",
       " 'Samsung J7': <gensim.models.keyedvectors.Vocab at 0x1e8bddce128>,\n",
       " 'Samsung Galaxy S1': <gensim.models.keyedvectors.Vocab at 0x1e880014630>,\n",
       " 'MI': <gensim.models.keyedvectors.Vocab at 0x1e880014160>}"
      ]
     },
     "execution_count": 9,
     "metadata": {},
     "output_type": "execute_result"
    }
   ],
   "source": [
    "m.build_vocab(new_texts, update=True)\n",
    "m.wv.vocab"
   ]
  },
  {
   "cell_type": "code",
   "execution_count": 10,
   "metadata": {},
   "outputs": [],
   "source": [
    "m.train(new_texts, total_examples=len(new_texts), epochs=model.epochs)"
   ]
  },
  {
   "cell_type": "code",
   "execution_count": 13,
   "metadata": {},
   "outputs": [
    {
     "name": "stderr",
     "output_type": "stream",
     "text": [
      "c:\\users\\pc\\appdata\\local\\programs\\python\\python36\\lib\\site-packages\\ipykernel_launcher.py:1: DeprecationWarning: Call to deprecated `most_similar` (Method will be removed in 4.0.0, use self.wv.most_similar() instead).\n",
      "  \"\"\"Entry point for launching an IPython kernel.\n"
     ]
    },
    {
     "data": {
      "text/plain": [
       "[('Samsung J7', 0.8227163553237915),\n",
       " ('Samsung Galaxy S1', 0.6542606353759766),\n",
       " ('ID', 0.0834067091345787),\n",
       " ('MI', 0.01676654815673828),\n",
       " ('Poccophone', -0.0233085285872221),\n",
       " ('Citizenship', -0.04661622643470764),\n",
       " ('Huawei', -0.07091890275478363),\n",
       " ('Xiaomi', -0.07368983328342438),\n",
       " ('Nokia', -0.09105494618415833),\n",
       " ('Nagarikta', -0.23104938864707947)]"
      ]
     },
     "execution_count": 13,
     "metadata": {},
     "output_type": "execute_result"
    }
   ],
   "source": [
    "m.most_similar('Samsung')"
   ]
  },
  {
   "cell_type": "code",
   "execution_count": 14,
   "metadata": {},
   "outputs": [],
   "source": [
    "m.save('lf.model')"
   ]
  },
  {
   "cell_type": "code",
   "execution_count": null,
   "metadata": {},
   "outputs": [],
   "source": []
  }
 ],
 "metadata": {
  "kernelspec": {
   "display_name": "Python 3",
   "language": "python",
   "name": "python3"
  },
  "language_info": {
   "codemirror_mode": {
    "name": "ipython",
    "version": 3
   },
   "file_extension": ".py",
   "mimetype": "text/x-python",
   "name": "python",
   "nbconvert_exporter": "python",
   "pygments_lexer": "ipython3",
   "version": "3.6.3"
  }
 },
 "nbformat": 4,
 "nbformat_minor": 2
}
